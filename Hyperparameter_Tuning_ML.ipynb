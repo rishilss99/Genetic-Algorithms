{
 "cells": [
  {
   "cell_type": "markdown",
   "metadata": {},
   "source": [
    "## Hyperparameter Tuning of Machine Algorithms\n",
    "We will be working with the Wine dataset that is provided by Scikit-learn."
   ]
  },
  {
   "cell_type": "markdown",
   "metadata": {},
   "source": [
    "### Step 1: Defining the problem class\n",
    "In this case the result is tested between grid seach and Genetic-algorithm based grid search"
   ]
  },
  {
   "cell_type": "code",
   "execution_count": 1,
   "metadata": {},
   "outputs": [],
   "source": [
    "%matplotlib inline"
   ]
  },
  {
   "cell_type": "code",
   "execution_count": 45,
   "metadata": {},
   "outputs": [],
   "source": [
    "import numpy as np\n",
    "from sklearn import datasets\n",
    "from sklearn import ensemble\n",
    "from sklearn import model_selection\n",
    "from evolutionary_search import EvolutionaryAlgorithmSearchCV"
   ]
  },
  {
   "cell_type": "code",
   "execution_count": 38,
   "metadata": {},
   "outputs": [],
   "source": [
    "rf = ensemble.AdaBoostClassifier()"
   ]
  },
  {
   "cell_type": "code",
   "execution_count": 39,
   "metadata": {},
   "outputs": [],
   "source": [
    "x,y = datasets.load_wine(return_X_y=True)"
   ]
  },
  {
   "cell_type": "code",
   "execution_count": 27,
   "metadata": {},
   "outputs": [],
   "source": [
    "class Dataset:\n",
    "    \n",
    "    def __init__(self,randomseed,num_splits=3):\n",
    "        \n",
    "        self.randomseed = randomseed\n",
    "        self.data = datasets.load_wine()\n",
    "        self.x = self.data['data']\n",
    "        self.y = self.data['target']\n",
    "        \n",
    "        self.n_splits = num_splits\n",
    "        \n",
    "        self.kfold = model_selection.KFold(n_splits=self.n_splits,random_state=self.randomseed)\n",
    "        \n",
    "        \n",
    "    def __repr__(self):\n",
    "        \n",
    "        return \"Targets: \" + str(self.data['target_names']) + \"\\n\" + \"Features: \" + str(self.data['feature_names'])\n",
    "    \n",
    "    def initClassifier(self):\n",
    "        \n",
    "        self.classifier = ensemble.AdaBoostClassifier(self.randomseed)\n",
    "        \n",
    "    def initParams(self):\n",
    "        \n",
    "        self.params = {'n_estimators'=[10,20,30,40,50,60,70,80,90,100],\n",
    "                       'learning_rate'=np.logspace(-2,0,num=10,base=10),'algorithm'=['SAMME','SAMME.R']}\n",
    "    \n",
    "    \n",
    "    def getdefaultaccuracy(self):\n",
    "        \n",
    "        cv_results = model_selection.cross_val_score(self.classifier,self.x,self.y,cv=self.kfold,scoring='accuracy')\n",
    "        \n",
    "        return cv_results.mean()\n",
    "        \n",
    "        \n",
    "    def gridsearchaccuracy(self):\n",
    "        \n",
    "    def geneticgridsearchaccuracy(self):\n",
    "        \n",
    "    \n",
    "        \n",
    "        "
   ]
  }
 ],
 "metadata": {
  "kernelspec": {
   "display_name": "Python 3",
   "language": "python",
   "name": "python3"
  },
  "language_info": {
   "codemirror_mode": {
    "name": "ipython",
    "version": 3
   },
   "file_extension": ".py",
   "mimetype": "text/x-python",
   "name": "python",
   "nbconvert_exporter": "python",
   "pygments_lexer": "ipython3",
   "version": "3.6.10"
  }
 },
 "nbformat": 4,
 "nbformat_minor": 4
}
