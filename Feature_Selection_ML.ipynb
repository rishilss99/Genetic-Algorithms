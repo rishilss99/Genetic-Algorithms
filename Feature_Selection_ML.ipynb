{
 "cells": [
  {
   "cell_type": "markdown",
   "metadata": {},
   "source": [
    "## Feature Selection in Machine Learning\n",
    "We will be looking at the Friedman dataset from the sklearn library. It is a popular dataset used to compare feature selection methods for machine learning algorithms."
   ]
  },
  {
   "cell_type": "markdown",
   "metadata": {},
   "source": [
    "### Step 1: Defining a class for the problem"
   ]
  },
  {
   "cell_type": "code",
   "execution_count": 148,
   "metadata": {},
   "outputs": [],
   "source": [
    "from sklearn import datasets\n",
    "from sklearn import model_selection\n",
    "from sklearn import ensemble\n",
    "from sklearn import metrics\n",
    "import numpy as np"
   ]
  },
  {
   "cell_type": "code",
   "execution_count": 149,
   "metadata": {},
   "outputs": [],
   "source": [
    "class Problem:\n",
    "    \n",
    "    def __init__(self,num_samples,num_features,noise,random_seed,test_split):\n",
    "        \n",
    "        self.num_samples = num_samples\n",
    "        self.num_features = num_features\n",
    "        self.noise = noise\n",
    "        self.random_seed = random_seed\n",
    "        self.test_split = test_split\n",
    "        \n",
    "        \n",
    "        self.X, self.Y = datasets.make_friedman1(n_samples=self.num_samples,n_features=self.num_features,\n",
    "                                                 noise=self.noise,random_state=self.random_seed)\n",
    "        self.X_train, self.X_validation, self.Y_train, self.Y_validation = model_selection.train_test_split(self.X,self.Y,\n",
    "                                                                    test_size = self.test_split,random_state=self.random_seed)\n",
    "        \n",
    "        self.regressor = ensemble.GradientBoostingRegressor(random_state=self.random_seed)\n",
    "    \n",
    "    def get_MSE(self,binary_list):\n",
    "        \n",
    "        zeroIndices = [i for i,n in enumerate(binary_list) if n==0]\n",
    "        currentX_train = np.delete(self.X_train, zeroIndices, 1)\n",
    "        currentX_validation = np.delete(self.X_validation, zeroIndices, 1)\n",
    "        \n",
    "        self.regressor.fit(currentX_train,self.Y_train)\n",
    "        \n",
    "        predictions = self.regressor.predict(currentX_validation)\n",
    "        \n",
    "        return metrics.mean_squared_error(self.Y_validation,predictions)"
   ]
  },
  {
   "cell_type": "markdown",
   "metadata": {},
   "source": [
    "### Step 2: Problem representation and Parameters of Genetic algorithm"
   ]
  },
  {
   "cell_type": "code",
   "execution_count": 150,
   "metadata": {},
   "outputs": [],
   "source": [
    "import random\n",
    "from deap import tools\n",
    "from deap import base\n",
    "from deap import creator\n",
    "import elitism\n",
    "import seaborn as sns\n",
    "import matplotlib.pyplot as plt"
   ]
  },
  {
   "cell_type": "code",
   "execution_count": 159,
   "metadata": {},
   "outputs": [],
   "source": [
    "POPULATION_SIZE = 30\n",
    "P_CROSSOVER = 0.9\n",
    "P_MUTATION = 0.3\n",
    "MAX_GENERATIONS = 30\n",
    "HALL_OF_FAME_SIZE = 5\n",
    "NUM_SAMPLES = 60\n",
    "NUM_FEATURES = 15\n",
    "NOISE = 1.0\n",
    "TEST_SPLIT = 0.2\n",
    "RANDOM_SEED = 42"
   ]
  },
  {
   "cell_type": "code",
   "execution_count": 161,
   "metadata": {},
   "outputs": [],
   "source": [
    "creator.create(\"FitnessMin\",base.Fitness,weights=(-1.0,))\n",
    "creator.create(\"individual\",list,fitness = creator.FitnessMin)"
   ]
  },
  {
   "cell_type": "code",
   "execution_count": 162,
   "metadata": {},
   "outputs": [],
   "source": [
    "friedman = Problem(NUM_SAMPLES,NUM_FEATURES,NOISE,RANDOM_SEED,TEST_SPLIT)\n",
    "\n",
    "toolbox = base.Toolbox()\n",
    "\n",
    "toolbox.register(\"zeroOrone\",random.randint,0,1)\n",
    "\n",
    "toolbox.register(\"individualCreator\",tools.initRepeat,creator.individual,toolbox.zeroOrone,NUM_FEATURES)\n",
    "toolbox.register(\"populationCreator\",tools.initRepeat,list,toolbox.individualCreator)\n",
    "\n",
    "toolbox.register(\"select\",tools.selTournament,tournsize=2)\n",
    "toolbox.register(\"mate\",tools.cxTwoPoint)\n",
    "toolbox.register(\"mutate\",tools.mutFlipBit,indpb=1.0/NUM_FEATURES)\n",
    "\n",
    "def get_MSE(individual):\n",
    "    return friedman.get_MSE(individual),\n",
    "\n",
    "toolbox.register(\"evaluate\",get_MSE)"
   ]
  },
  {
   "cell_type": "markdown",
   "metadata": {},
   "source": [
    "### Step 3: Genetic algorithm flow"
   ]
  },
  {
   "cell_type": "code",
   "execution_count": 165,
   "metadata": {},
   "outputs": [
    {
     "name": "stdout",
     "output_type": "stream",
     "text": [
      "gen\tnevals\tmin    \tavg    \n",
      "0  \t30    \t12.2594\t28.1585\n",
      "1  \t24    \t9.82949\t21.4425\n",
      "2  \t19    \t9.82949\t17.1355\n",
      "3  \t24    \t9.82949\t16.1701\n",
      "4  \t21    \t9.82949\t14.1769\n",
      "5  \t20    \t9.82949\t12.1201\n",
      "6  \t22    \t9.82949\t11.2709\n",
      "7  \t24    \t7.45319\t11.9821\n",
      "8  \t22    \t7.26529\t10.5643\n",
      "9  \t23    \t7.26529\t9.96037\n",
      "10 \t22    \t6.70267\t10.3836\n",
      "11 \t24    \t6.70267\t8.82774\n",
      "12 \t23    \t6.70267\t9.21107\n",
      "13 \t22    \t6.70267\t8.49222\n",
      "14 \t25    \t6.70267\t8.42527\n",
      "15 \t23    \t6.70267\t9.10437\n",
      "16 \t24    \t6.70267\t10.384 \n",
      "17 \t24    \t6.70267\t9.54936\n",
      "18 \t23    \t6.70267\t8.18406\n",
      "19 \t22    \t6.70267\t8.75601\n",
      "20 \t21    \t6.70267\t8.11227\n",
      "21 \t22    \t6.70267\t8.5577 \n",
      "22 \t23    \t6.70267\t7.61616\n",
      "23 \t24    \t6.70267\t7.44409\n",
      "24 \t24    \t6.70267\t8.44902\n",
      "25 \t20    \t6.70267\t7.50504\n",
      "26 \t23    \t6.70267\t8.0824 \n",
      "27 \t23    \t6.70267\t8.01326\n",
      "28 \t23    \t6.70267\t7.9705 \n",
      "29 \t20    \t6.70267\t7.75097\n",
      "30 \t21    \t6.70267\t7.68953\n",
      "-- Best Ever Individual =  [1, 1, 1, 1, 1, 0, 0, 0, 0, 0, 0, 0, 0, 0, 0]\n",
      "-- Best Ever Fitness =  6.702668910463276\n"
     ]
    },
    {
     "data": {
      "image/png": "[encoded data removed]",
      "text/plain": [
       "<Figure size 432x288 with 1 Axes>"
      ]
     },
     "metadata": {},
     "output_type": "display_data"
    }
   ],
   "source": [
    "population = toolbox.populationCreator(POPULATION_SIZE)\n",
    "\n",
    "stats = tools.Statistics(lambda ind: ind.fitness.values)\n",
    "\n",
    "stats.register(\"min\", np.min)\n",
    "stats.register(\"avg\", np.mean)\n",
    "\n",
    "hof = tools.HallOfFame(HALL_OF_FAME_SIZE)\n",
    "\n",
    "population, logbook = elitism.eaSimpleWithElitism(population, toolbox, cxpb=P_CROSSOVER, mutpb=P_MUTATION,\n",
    "                                                  ngen=MAX_GENERATIONS, stats=stats, halloffame=hof, verbose=True)\n",
    "\n",
    "best = hof.items[0]\n",
    "print(\"-- Best Ever Individual = \", best)\n",
    "print(\"-- Best Ever Fitness = \", best.fitness.values[0])\n",
    "\n",
    "minFitnessValues, meanFitnessValues = logbook.select(\"min\", \"avg\")\n",
    "\n",
    "sns.set_style(\"whitegrid\")\n",
    "plt.plot(minFitnessValues, color='red')\n",
    "plt.plot(meanFitnessValues, color='green')\n",
    "plt.xlabel('Generation')\n",
    "plt.ylabel('Min / Average Fitness')\n",
    "plt.title('Min and Average fitness over Generations')\n",
    "plt.show()"
   ]
  }
 ],
 "metadata": {
  "kernelspec": {
   "display_name": "Python 3",
   "language": "python",
   "name": "python3"
  },
  "language_info": {
   "codemirror_mode": {
    "name": "ipython",
    "version": 3
   },
   "file_extension": ".py",
   "mimetype": "text/x-python",
   "name": "python",
   "nbconvert_exporter": "python",
   "pygments_lexer": "ipython3",
   "version": "3.6.9"
  }
 },
 "nbformat": 4,
 "nbformat_minor": 2
}
